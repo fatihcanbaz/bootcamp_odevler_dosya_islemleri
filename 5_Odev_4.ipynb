{
 "cells": [
  {
   "cell_type": "code",
   "execution_count": 5,
   "metadata": {},
   "outputs": [],
   "source": [
    "import time\n",
    "\n",
    "ilk = time.gmtime(0)\n",
    "\n",
    "güncel = time.gmtime(time.time())\n",
    "g_yıl = int(güncel.tm_year)\n",
    "g_ay = int(güncel.tm_mon)\n",
    "g_gün = int(güncel.tm_mday)"
   ]
  },
  {
   "cell_type": "code",
   "execution_count": 24,
   "metadata": {
    "scrolled": false
   },
   "outputs": [
    {
     "name": "stdout",
     "output_type": "stream",
     "text": [
      "Bugünün terihi:\n",
      " 8 10 2019\n",
      "\n",
      "Tarihleri sayı olarak giriniz!!\n",
      "Doğduğunuz yılı giriniz: 1998\n",
      "Doğduğunuz ayı giriniz: 11\n",
      "Doğduğunuz günü giriniz: 2\n",
      "Yaşınız: 20\n"
     ]
    }
   ],
   "source": [
    "print(\"Bugünün terihi:\\n\", g_gün, g_ay, g_yıl, end=\"\\n\\n\")\n",
    "print(\"Tarihleri sayı olarak giriniz!!\")\n",
    "yıl = int(input(\"Doğduğunuz yılı giriniz: \"))\n",
    "ay = int(input(\"Doğduğunuz ayı giriniz: \"))\n",
    "gün = int(input(\"Doğduğunuz günü giriniz: \"))\n",
    "\n",
    "yaş = g_yıl - yıl\n",
    "k = yaş - 1\n",
    "if g_ay >> ay:\n",
    "    print(\"Yaşınız:\",yaş)\n",
    "elif g_ay == ay: \n",
    "    if gün >> g_gün:\n",
    "        print(\"Yaşınız:\",k)\n",
    "    elif gün << g_gün:\n",
    "        print(\"Yaşınız:\",yaş)\n",
    "else:\n",
    "    print(\"Yaşınız:\",k)"
   ]
  }
 ],
 "metadata": {
  "kernelspec": {
   "display_name": "Python 3",
   "language": "python",
   "name": "python3"
  },
  "language_info": {
   "codemirror_mode": {
    "name": "ipython",
    "version": 3
   },
   "file_extension": ".py",
   "mimetype": "text/x-python",
   "name": "python",
   "nbconvert_exporter": "python",
   "pygments_lexer": "ipython3",
   "version": "3.7.4"
  }
 },
 "nbformat": 4,
 "nbformat_minor": 2
}
