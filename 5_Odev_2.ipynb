{
 "cells": [
  {
   "cell_type": "code",
   "execution_count": 40,
   "metadata": {},
   "outputs": [],
   "source": [
    "def asal(x):\n",
    "    \n",
    "    if x<=2:\n",
    "        print (\"Girdiğiniz sayı asaldır.\")\n",
    "    elif x%2!=0:\n",
    "        count=0\n",
    "        for y in range(2,x//2):\n",
    "            if (x%y)==0:\n",
    "                count+=1\n",
    "        if count==0:\n",
    "            print (\"Girdiğiniz sayı asaldır.\")\n",
    "    else: \n",
    "            print(\"Girdiğiniz sayı asal değildir.\")"
   ]
  },
  {
   "cell_type": "code",
   "execution_count": 41,
   "metadata": {
    "scrolled": true
   },
   "outputs": [
    {
     "name": "stdout",
     "output_type": "stream",
     "text": [
      "Bir sayı girin : 6\n",
      "Girdiğiniz sayı asal değildir.\n",
      "None\n"
     ]
    }
   ],
   "source": [
    " x = int(input(\"Bir sayı girin : \")) \n",
    "print(asal(x))"
   ]
  }
 ],
 "metadata": {
  "kernelspec": {
   "display_name": "Python 3",
   "language": "python",
   "name": "python3"
  },
  "language_info": {
   "codemirror_mode": {
    "name": "ipython",
    "version": 3
   },
   "file_extension": ".py",
   "mimetype": "text/x-python",
   "name": "python",
   "nbconvert_exporter": "python",
   "pygments_lexer": "ipython3",
   "version": "3.7.4"
  }
 },
 "nbformat": 4,
 "nbformat_minor": 2
}
